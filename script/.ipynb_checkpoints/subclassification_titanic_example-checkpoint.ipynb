{
 "cells": [
  {
   "cell_type": "markdown",
   "id": "30df3d5e",
   "metadata": {},
   "source": [
    "### titanic"
   ]
  },
  {
   "cell_type": "markdown",
   "id": "d51ba633",
   "metadata": {},
   "source": [
    "Exemplo prático do livro \"Causal Inference: The Mixtape\" referente ao capítulo tratando sobre Subclassificação."
   ]
  },
  {
   "cell_type": "code",
   "execution_count": 1,
   "id": "4071c02e",
   "metadata": {},
   "outputs": [],
   "source": [
    "# Importando os pacotes necessários\n",
    "import numpy as np \n",
    "import pandas as pd \n",
    "import statsmodels.api as sm \n",
    "import statsmodels.formula.api as smf \n",
    "from itertools import combinations \n",
    "import plotnine as p\n",
    "import ssl\n",
    "import warnings\n",
    "warnings.filterwarnings('ignore')"
   ]
  },
  {
   "cell_type": "code",
   "execution_count": 2,
   "id": "f790e371",
   "metadata": {},
   "outputs": [],
   "source": [
    "# Criando uma função de importação/leitura dos dados\n",
    "ssl._create_default_https_context = ssl._create_unverified_context\n",
    "def read_data(file):\n",
    "    return pd.read_stata(\"https://github.com/scunning1975/mixtape/raw/master/\" + file) "
   ]
  },
  {
   "cell_type": "code",
   "execution_count": 3,
   "id": "29c09e5d",
   "metadata": {},
   "outputs": [
    {
     "name": "stdout",
     "output_type": "stream",
     "text": [
      "A diferença simples no resultado de interesse é 35.38%\n"
     ]
    }
   ],
   "source": [
    "## Calculando a Diferença Simples nos Resultados Médios (DSRM)\n",
    "# Importando a base direto do github do autor usando a função criada acima\n",
    "titanic = read_data(\"titanic.dta\")\n",
    "# Tratando os dados\n",
    "titanic['d'] = 0 # Criando nossa variável de tratamento, que corresponde a \"estar na 1ª classe\"\n",
    "titanic.loc[titanic['class']=='1st class', 'd'] = 1 # Dummy que assume valor 1 se o passageiro estava na 1ª classe, e 0 cc\n",
    "\n",
    "titanic['sex_d'] = 0 # Criando uma dummy que indique o sexo dos passageiros\n",
    "titanic.loc[titanic['sex']=='man', 'sex_d'] = 1 # Dummy que assume valor 1 se o passageiro era do sexo masculino, e 0 cc\n",
    "\n",
    "titanic['age_d'] = 0 # Criando uma dummy que indique a faixa etária dos passageiros\n",
    "titanic.loc[titanic['age']=='adults', 'age_d'] = 1 # Dummy que assume valor 1 se o passgeiro era adulto, e 0 cc\n",
    "\n",
    "titanic['survived_d'] = 0 # Criando nossa variável de resultado de interesse, que corresponde a \"ter sobrevivido\"\n",
    "titanic.loc[titanic['survived']=='yes', 'survived_d'] = 1 # Dummy que assume valor 1 se o passageiro sobreviveu, e 0 cc\n",
    "\n",
    "# Calculando os efeitos médios para os grupos de tratamento e controle\n",
    "ey0 = titanic.loc[titanic['d']==0, 'survived_d'].mean()\n",
    "ey1 = titanic.loc[titanic['d']==1, 'survived_d'].mean()\n",
    "\n",
    "# Tirando a DSRM\n",
    "sdo = ey1 - ey0\n",
    "\n",
    "# Printando o resultado\n",
    "print(\"A diferença simples no resultado de interesse é {:.2%}\".format(sdo))"
   ]
  },
  {
   "cell_type": "markdown",
   "id": "11d22349",
   "metadata": {},
   "source": [
    "### titanic_subclassification"
   ]
  },
  {
   "cell_type": "markdown",
   "id": "ab1c2abb",
   "metadata": {},
   "source": [
    "Vamos agora calcular o Efeito Médio Ponderado do Tratamento (EMPT), de modo a controlar nossa estimativa para os fatores de confusão observáveis sexo e faixa etária. Este processo será feito em 4 etapas, que se seguem:\n",
    "1. Vamos estratificar nossa base em quatro grupos (homens jovens, mulheres jovens, homens adultos e mulheres adultas);\n",
    "2. Vamos calcular a diferença nas probabilidades de sobrevivência para cada grupo;\n",
    "3. Vamos calcular o nº de pessoas que não estava na 1ª classe em cada grupo e depois dividir pelo nº total populacional de pessoas que não estavam na 1ª classe. Estes serão nossos pesos específicos de estrato;\n",
    "4. Vamos calcular a taxa de sobrevivência média ponderada usando os pesos de estrato."
   ]
  },
  {
   "cell_type": "code",
   "execution_count": 4,
   "id": "3d10a879",
   "metadata": {},
   "outputs": [
    {
     "data": {
      "text/plain": [
       "1876"
      ]
     },
     "execution_count": 4,
     "metadata": {},
     "output_type": "execute_result"
    }
   ],
   "source": [
    "## Calculando o Efeito Médio Ponderado do Tratamento\n",
    "# Etapa 1\n",
    "titanic['s'] = 0 \n",
    "titanic.loc[(titanic.sex_d == 0) & (titanic.age_d==1), 's'] = 1 # mulheres adultas\n",
    "titanic.loc[(titanic.sex_d == 0) & (titanic.age_d==0), 's'] = 2 # mulheres jovens\n",
    "titanic.loc[(titanic.sex_d == 1) & (titanic.age_d==1), 's'] = 3 # homens adultos\n",
    "titanic.loc[(titanic.sex_d == 1) & (titanic.age_d==0), 's'] = 4 # homens jovens\n",
    "obs = titanic.loc[titanic.d == 0].shape[0] # nº de observações no grupo de controle\n",
    "obs"
   ]
  },
  {
   "cell_type": "code",
   "execution_count": 5,
   "id": "39202977",
   "metadata": {},
   "outputs": [],
   "source": [
    "# Criando uma função para realizar as etapas restantes\n",
    "def weighted_avg_effect(df):\n",
    "    diff = df[df.d==1].survived_d.mean() - df[df.d==0].survived_d.mean() # Etapa 2\n",
    "    weight = df[df.d==0].shape[0]/obs # Etapa 3\n",
    "    return diff*weight # Etapa 4"
   ]
  },
  {
   "cell_type": "code",
   "execution_count": 6,
   "id": "52968785",
   "metadata": {},
   "outputs": [
    {
     "name": "stdout",
     "output_type": "stream",
     "text": [
      "O efeito médio ponderado do tratamento estimado é 18.88%\n"
     ]
    }
   ],
   "source": [
    "# Gerando nosso EMPT, que no inglês se torna \"WATE\" (Weighted Average Treatment Effect)\n",
    "wate = titanic.groupby('s').apply(weighted_avg_effect).sum()\n",
    "print(\"O efeito médio ponderado do tratamento estimado é {:.2%}\".format(wate)) # Printando seu valor"
   ]
  }
 ],
 "metadata": {
  "kernelspec": {
   "display_name": "Python 3",
   "language": "python",
   "name": "python3"
  },
  "language_info": {
   "codemirror_mode": {
    "name": "ipython",
    "version": 3
   },
   "file_extension": ".py",
   "mimetype": "text/x-python",
   "name": "python",
   "nbconvert_exporter": "python",
   "pygments_lexer": "ipython3",
   "version": "3.9.12"
  }
 },
 "nbformat": 4,
 "nbformat_minor": 5
}
